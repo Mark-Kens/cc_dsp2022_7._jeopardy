{
 "cells": [
  {
   "cell_type": "markdown",
   "metadata": {},
   "source": [
    "# This is Jeopardy!"
   ]
  },
  {
   "cell_type": "markdown",
   "metadata": {},
   "source": [
    "#### Overview"
   ]
  },
  {
   "cell_type": "markdown",
   "metadata": {},
   "source": [
    "This project is slightly different than others you have encountered thus far. Instead of a step-by-step tutorial, this project contains a series of open-ended requirements which describe the project you'll be building. There are many possible ways to correctly fulfill all of these requirements, and you should expect to use the internet, Codecademy, and/or other resources when you encounter a problem that you cannot easily solve."
   ]
  },
  {
   "cell_type": "markdown",
   "metadata": {},
   "source": [
    "#### Project Goals"
   ]
  },
  {
   "cell_type": "markdown",
   "metadata": {},
   "source": [
    "You will work to write several functions that investigate a dataset of _Jeopardy!_ questions and answers. Filter the dataset for topics that you're interested in, compute the average difficulty of those questions, and train to become the next Jeopardy champion!"
   ]
  },
  {
   "cell_type": "markdown",
   "metadata": {},
   "source": [
    "## Prerequisites"
   ]
  },
  {
   "cell_type": "markdown",
   "metadata": {},
   "source": [
    "In order to complete this project, you should have completed the Pandas lessons in the <a href=\"https://www.codecademy.com/learn/paths/analyze-data-with-python\">Analyze Data with Python Skill Path</a>. You can also find those lessons in the <a href=\"https://www.codecademy.com/learn/data-processing-pandas\">Data Analysis with Pandas course</a> or the <a href=\"https://www.codecademy.com/learn/paths/data-science/\">Data Scientist Career Path</a>.\n",
    "\n",
    "Finally, the <a href=\"https://www.codecademy.com/learn/practical-data-cleaning\">Practical Data Cleaning</a> course may also be helpful."
   ]
  },
  {
   "cell_type": "markdown",
   "metadata": {},
   "source": [
    "## Project Requirements"
   ]
  },
  {
   "cell_type": "markdown",
   "metadata": {},
   "source": [
    "1. We've provided a csv file containing data about the game show _Jeopardy!_ in a file named `jeopardy.csv`. Load the data into a DataFrame and investigate its contents. Try to print out specific columns.\n",
    "\n",
    "   Note that in order to make this project as \"real-world\" as possible, we haven't modified the data at all - we're giving it to you exactly how we found it. As a result, this data isn't as \"clean\" as the datasets you normally find on Codecademy. More specifically, there's something odd about the column names. After you figure out the problem with the column names, you may want to rename them to make your life easier for the rest of the project.\n",
    "   \n",
    "   In order to display the full contents of a column, we've added this line of code for you:\n",
    "   \n",
    "   ```py\n",
    "   pd.set_option('display.max_colwidth', None)\n",
    "   ```"
   ]
  },
  {
   "cell_type": "code",
   "execution_count": 6,
   "metadata": {},
   "outputs": [
    {
     "name": "stdout",
     "output_type": "stream",
     "text": [
      "Index(['Show Number', ' Air Date', ' Round', ' Category', ' Value',\n",
      "       ' Question', ' Answer'],\n",
      "      dtype='object')\n",
      "Index(['Show_Number', 'Air_Date', 'Round', 'Category', 'Value', 'Question',\n",
      "       'Answer'],\n",
      "      dtype='object')\n",
      "0                            HISTORY\n",
      "1    ESPN's TOP 10 ALL-TIME ATHLETES\n",
      "Name: Category, dtype: object\n",
      "0               For the last 8 years of his life, Galileo was under house arrest for espousing this man's theory\n",
      "1    No. 2: 1912 Olympian; football star at Carlisle Indian School; 6 MLB seasons with the Reds, Giants & Braves\n",
      "Name: Question, dtype: object\n"
     ]
    }
   ],
   "source": [
    "import pandas as pd\n",
    "pd.set_option('display.max_colwidth', None)\n",
    "\n",
    "# Create dataframe jeopardy\n",
    "jeopardy = pd.read_csv(\"jeopardy.csv\")\n",
    "print(jeopardy.columns)\n",
    "\n",
    "# Column names have spaces (leading and inbetween). Remove spaces.\n",
    "jeopardy = jeopardy.rename(columns = {\"Show Number\": \"Show_Number\", \" Air Date\": \"Air_Date\", \" Round\" : \"Round\", \" Category\": \"Category\", \" Value\": \"Value\", \" Question\":\"Question\", \" Answer\": \"Answer\"})\n",
    "print(jeopardy.columns)\n",
    "print(jeopardy[\"Category\"].head(2))\n",
    "print(jeopardy[\"Question\"].head(2))"
   ]
  },
  {
   "cell_type": "markdown",
   "metadata": {},
   "source": [
    "2. Write a function that filters the dataset for questions that contains all of the words in a list of words. For example, when the list `[\"King\", \"England\"]` was passed to our function, the function returned a DataFrame of 49 rows. Every row had the strings `\"King\"` and `\"England\"` somewhere in its `\" Question\"`.\n",
    "\n",
    "   Test your function by printing out the column containing the question of each row of the dataset."
   ]
  },
  {
   "cell_type": "code",
   "execution_count": 11,
   "metadata": {},
   "outputs": [
    {
     "name": "stdout",
     "output_type": "stream",
     "text": [
      "4953                                                                                                                                                                                                                                                                      Both England's King George V & FDR put their stamp of approval on this \"King of Hobbies\"\n",
      "14912                                                                                                                                                                                                                                                            This country's King Louis IV was nicknamed \"Louis From Overseas\" because he was raised in England\n",
      "21511                                                                                                                                                                                                                                                                                 this man and his son ruled England following the execution of King Charles I\n",
      "23810                                                                                                                                                                                                                                                         William the Conqueror was crowned King of England in Westminster Abbey on Christmas Day in this year\n",
      "27555                                                                                                                                                                                                                                                                           This member of the Medici family was the mother-in-law of England's King Charles I\n",
      "33294                 (Sarah of the Clue Crew delivers the clue from the Bayeux Cathedral in France.)  Despite taking an oath to assure another succession, Harold is crowned King of England; the tapestry indicated it was <a href=\"http://www.j-archive.com/media/2008-12-18_J_08.jpg\" target=\"_blank\">Stigant</a>, this archbishop, who performed the ceremony\n",
      "41148                                                                                                                                                                                                                                    This French king recognized William of Orange as William II, King of England, under the terms of 1697's Treaty of Ryswick\n",
      "41357                                                                                                                                                                                                                                                     England's King Henry VIII had 3 wives named Catherine:  Catherine Howard, Catherine of Aragon & this one\n",
      "43122                                                                                                                                                                                                                                                                                                                       The father of England's King Edward VI\n",
      "47814                                                                                                                                                                                                                                                                                                   This steak sauce was created for King George IV of England\n",
      "49994                                                                                                                                                                                                                                                                       Elizabeth I's half-brother, he reigned before her as King of England from 1547 to 1553\n",
      "51115                                                                                                                  (<a href=\"http://www.j-archive.com/media/2000-03-02_J_22.jpg\" target=\"_blank\">Alex Trebek reads from England.</a>)  In 1214 barons fed up with King John met at the abbey whose ruins we see here; the result a year later was this charter\n",
      "51565                                                                                                                                                                                                                                                 He wrote several anthems, including \"The King Shall Rejoice\", for the coronation of England's King George II\n",
      "56600                                                                                                                                                                                                                                                              This city known for its 24-hour auto race was the birthplace of England's King Henry II in 1133\n",
      "57516                                                                                                                                                                                                                                                                                         Famous (& rather insulting) adjective for England's King Ethelred II\n",
      "58949                                                                                                                                                                                                                                                                        He became King of England in 1399 after forcing his cousin Richard II from the throne\n",
      "71808                                                                                                                                                                                                                                                                                      Number of the William who was England's \"Sailor King\" from 1830 to 1837\n",
      "74235                                                                                                                                                                                                                                                                     Barons & churchmen drew up this 1215 document to reduce the power of England's King John\n",
      "77195                                                                                                                                                                                                                                                          He became King of England on June 26, 1483; just over 2 years later he was killed at Bosworth Field\n",
      "79457                                                                                                                                                                                                                                              On Christmas Day 1066, he was crowned King of England, 72 days after defeating Harold at the Battle of Hastings\n",
      "80113                                                                                                                                                                                                                                                                                                England's King Charles II was known by this \"jovial\" nickname\n",
      "84639                                                                                                                                                                                                                                                                            He went from second banana on \"Roseanne\" to top banana of England in \"King Ralph\"\n",
      "86412                                                                                                                                                                                                                                                                         This country's King Olaf V was born in England & was the grandson of King Edward VII\n",
      "89710                                                                                                                                                                                                                                                            This 11th Century King of England also ruled Denmark & Norway during the latter part of his reign\n",
      "111926                                                                                                                                                                                                                                                   It begins \"John, by the grace of God, King of England, Lord of Ireland, Duke of Normandy & Aquitaine....\"\n",
      "118809                                                                                                                                                                                                                                                                                            In French this King of England is called Guillaume le Conquerant\n",
      "123299                                                                                                                                                                                                                                                                     If you want to be crowned King of England, this rock has to be in your coronation chair\n",
      "123671                                                                                                                                                                                                                                                                                                                              King Henry VII of England dies\n",
      "125822                                                                                                                                                                                                                                                                                              Famous nickname of the eldest son of England's King Edward III\n",
      "127484                                                                                                                                                                                                                                                                Ethelred the Unready managed to lose most of England to King Sweyn Forkbeard of this country\n",
      "127758                                                                                                                                                                                                                                                                                  This state was named for the King of England who reigned from 1727 to 1760\n",
      "129106                                                                                                                                                                                                                                                              King Edward I of England, who fought William Wallace, had this nickname relating to his height\n",
      "130208                                                                                                                                                                                                                                                                                    This \"Sun King\" sniffed, \"England is a little garden full of sour weeds\"\n",
      "137818                                                                                                                                                                                                                                                                                        The last King William to rule England had this number after his name\n",
      "143434                                                                                                                                                                                                                                                                This Flemish artist painted a unique triple portrait of England's King Charles I around 1637\n",
      "150880                                                                                                                                                                                                                                                                                       During Stanley Baldwin's term as P.M., this King of England abdicated\n",
      "165110                                                                                                                                                                                                                                                        The 1st commoner to rule England, he became lord protector following the overthrow of King Charles I\n",
      "165197                                                                                                                                                                                                                                                       The \"Angel of Hadley\" is said to have saved a New England town during the war with this Indian \"King\"\n",
      "170007                                                                                                                                                                                                                                                                In the 1697 Treaty of Rijswijk, the French recognized this Dutch-born man as King of England\n",
      "174055                                                                                                                                                                                                                                                                                            This conqueror was crowned King of England on Christmas Day 1066\n",
      "175259                                                                                                                                                                                                                                                                                                          His short reign as King of England fell in in 1936\n",
      "183462                                                                                                                                                                                                                                                            A capital in the West Indies is named for this family name of William of Orange, King of England\n",
      "186239                                                                                                                                                                                                                                           He was King of England from 1189 to 1199 but spent only 6 months there; the rest of the time, he was off fighting\n",
      "187651                                                                                                                                                                                                                                                                     This Bahamian capital took its name from the family name of King William III of England\n",
      "191579                                                                                                                                                                                                                                                                             England's King Harold II lost the all-important Battle of Hastings in this year\n",
      "192265    (<a href=\"http://www.j-archive.com/media/2012-01-17_DJ_25.jpg\" target=\"_blank\">Sarah of the Clue Crew stands in front of the Royal Palace in Oslo, Norway.</a>) King Harald V lives here, in Norway's Royal Palace. He and his second cousin, England's Queen Elizabeth, are both great-grandchildren of this British king, who ruled from 1901 to 1910.\n",
      "192966                                                                                                                                                                                                                                                                                                                          England's King _____ _____ R. Luce\n",
      "194516                                                                                                                                                                                                                                                            The \"Monty Python\" member who played King Arthur, he ended his grail quest in Maidstone, England\n",
      "200369                                                                                                                                                                                                                                             8th C. King Offa built a 170-mile north-south dike that still partly marks the border of England & this country\n",
      "Name: Question, dtype: object\n",
      "<class 'pandas.core.series.Series'>\n",
      "Int64Index: 49 entries, 4953 to 200369\n",
      "Series name: Question\n",
      "Non-Null Count  Dtype \n",
      "--------------  ----- \n",
      "49 non-null     object\n",
      "dtypes: object(1)\n",
      "memory usage: 784.0+ bytes\n",
      "None\n"
     ]
    }
   ],
   "source": [
    "# Codecademy solution flawed. \n",
    "# Comment states:   # Lowercases all words in the list of words as well as the questions. Returns true if all of the words in the list appear in the question.\n",
    "# However, the code does not use \"lower()\":  filter = lambda x: all(word in x for word in words)\n",
    "# Yet again, their instructions have not been updated.\n",
    "\n",
    "\n",
    "\n",
    "# Define a function: def filter_rows_with_words(<where to look>, <what to look for>)\n",
    "# <where to look>: jeopardy[\"Question\"], <what to look for>: words (in this case [\"King\", \"England\"])\n",
    "# Return those rows of the Question column where all of the words are included.\n",
    "#     The all() function returns True if all items in an iterable are true, otherwise it returns False.\n",
    "#     lambda x: all(word in x for word in words) --> nested for loop.\n",
    "# lambda's input parameter x is the Question column. x[0], x[1], x[2] are the rows (questions).\n",
    "# This part \"all(word in x\" checks whether first word is in row 0 of x. True or False.\n",
    "# This part \"for word in words\" provides the next word from the list of words. \n",
    "# This part again \"all(word in x\" checks whether second word is in row 0 of x. True or False.\n",
    "# If both words found in row 0, \"lambda <row 0 of Question column>: all(word in <row 0 of Question column> for word in words)\" is True.\n",
    "# Inner loop: word[0] to word[n], outer loop: row[0] to row[n].\n",
    "# Each row the all() function returns True will be returned as result.\n",
    "\n",
    "def find_rows_true(x, words):\n",
    "    rows_true = lambda x: all(word in x for word in words)\n",
    "    # df.loc[<list of rows or a condition for rows>]  # loc iterates through each row of dataframe\n",
    "    # x.loc[<rows for which rows_true is True>    \n",
    "    return x.loc[x.apply(rows_true)]\n",
    "\n",
    "questions = find_rows_true(jeopardy.Question, ['King', 'England']) # new dataframe that holds the questions\n",
    "print(questions)\n",
    "print(questions.info()) # 49 questions found\n",
    "questions.to_csv('found_questions.csv')"
   ]
  },
  {
   "cell_type": "markdown",
   "metadata": {},
   "source": [
    "3. Test your original function with a few different sets of words to try to find some ways your function breaks. Edit your function so it is more robust.\n",
    "\n",
    "   For example, think about capitalization. We probably want to find questions that contain the word `\"King\"` or `\"king\"`.\n",
    "   \n",
    "   You may also want to check to make sure you don't find rows that contain substrings of your given words. For example, our function found a question that didn't contain the word `\"king\"`, however it did contain the word `\"viking\"` &mdash; it found the `\"king\"` inside `\"viking\"`. Note that this also comes with some drawbacks &mdash; you would no longer find questions that contained words like `\"England's\"`."
   ]
  },
  {
   "cell_type": "code",
   "execution_count": 13,
   "metadata": {},
   "outputs": [
    {
     "name": "stdout",
     "output_type": "stream",
     "text": [
      "4953                    Both England's King George V & FDR put their stamp of approval on this \"King of Hobbies\"\n",
      "6337      In retaliation for Viking raids, this \"Unready\" king of England attacks Norse areas of the Isle of Man\n",
      "9191                    This king of England beat the odds to trounce the French in the 1415 Battle of Agincourt\n",
      "11710               This Scotsman, the first Stuart king of England, was called \"The Wisest Fool in Christendom\"\n",
      "13454                                       It's the number that followed the last king of England named William\n",
      "                                                           ...                                                  \n",
      "208295        In 1066 this great-great grandson of Rollo made what some call the last Viking invasion of England\n",
      "208742                      Dutch-born king who ruled England jointly with Mary II & is a tasty New Zealand fish\n",
      "213870                In 1781 William Herschel discovered Uranus & initially named it after this king of England\n",
      "216021          His nickname was \"Bertie\", but he used this name & number when he became king of England in 1901\n",
      "216789        This kingdom of England grew from 2 settlements, one founded around 495 by Cerdic & his son Cynric\n",
      "Name: Question, Length: 152, dtype: object\n",
      "<class 'pandas.core.series.Series'>\n",
      "Int64Index: 152 entries, 4953 to 216789\n",
      "Series name: Question\n",
      "Non-Null Count  Dtype \n",
      "--------------  ----- \n",
      "152 non-null    object\n",
      "dtypes: object(1)\n",
      "memory usage: 2.4+ KB\n",
      "None\n"
     ]
    }
   ],
   "source": [
    "# In my results (questions.to_csv('found_questions.csv')) \"viking\" is not included.\n",
    "# Out of 49 cells, 1 cell includes \"taking\", 2 cells include \"king\". \n",
    "# They were selected only because these cells also include both \"England\" and \"King\", which was the selection criteria.\n",
    "# Instances where \"King\" appears only as \"king\" in a row, are not selected as a result, if such rows exist in jeopardy.csv. \n",
    "# Turning everything to lowercase would return rows where for example the word king appears only once, and was originally written in lowercase.\n",
    "# Adding a space before and/or after King would remove \"King's\", \"Kings.\" etc. There are compromises, more robust in one way less robust in another.\n",
    "\n",
    "# Try lowercase.\n",
    "def find_rows_true_lowercase(x, words):\n",
    "    rows_true = lambda x: all(word.lower() in x.lower() for word in words)\n",
    "    # df.loc[<list of rows or a condition for rows>]  # loc iterates through each row of dataframe\n",
    "    # x.loc[<rows for which rows_true is True>    \n",
    "    return x.loc[x.apply(rows_true)]\n",
    "\n",
    "questions_lowercase = find_rows_true_lowercase(jeopardy.Question, ['King', 'England']) # new dataframe that holds the questions\n",
    "print(questions_lowercase)\n",
    "print(questions_lowercase.info()) # 49 questions found\n",
    "questions_lowercase.to_csv('found_questions_lowercase.csv')\n",
    "\n",
    "# Result grew from 49 to 152 cells. \n",
    "# This result includes instances where \"king\" appears only once, in lowercase."
   ]
  },
  {
   "cell_type": "markdown",
   "metadata": {},
   "source": [
    "4. We may want to eventually compute aggregate statistics, like `.mean()` on the `\" Value\"` column. But right now, the values in that column are strings. Convert the`\" Value\"` column to floats. If you'd like to, you can create a new column with float values.\n",
    "\n",
    "   Now that you can filter the dataset of question, use your new column that contains the float values of each question to find the \"difficulty\" of certain topics. For example, what is the average value of questions that contain the word `\"King\"`?\n",
    "   \n",
    "   Make sure to use the dataset that contains the float values as the dataset you use in your filtering function."
   ]
  },
  {
   "cell_type": "code",
   "execution_count": 22,
   "metadata": {},
   "outputs": [
    {
     "name": "stdout",
     "output_type": "stream",
     "text": [
      "0    200.0\n",
      "1    200.0\n",
      "2    200.0\n",
      "3    200.0\n",
      "4    200.0\n",
      "Name: Float_Value, dtype: float64\n",
      "questions_value.info(): \n",
      "<class 'pandas.core.frame.DataFrame'>\n",
      "Int64Index: 49 entries, 4953 to 200369\n",
      "Data columns (total 8 columns):\n",
      " #   Column       Non-Null Count  Dtype  \n",
      "---  ------       --------------  -----  \n",
      " 0   Show_Number  49 non-null     int64  \n",
      " 1   Air_Date     49 non-null     object \n",
      " 2   Round        49 non-null     object \n",
      " 3   Category     49 non-null     object \n",
      " 4   Value        49 non-null     object \n",
      " 5   Question     49 non-null     object \n",
      " 6   Answer       49 non-null     object \n",
      " 7   Float_Value  49 non-null     float64\n",
      "dtypes: float64(1), int64(1), object(6)\n",
      "memory usage: 3.4+ KB\n",
      "None\n",
      "questions_value.Float_Value.mean(): 918.3673469387755\n"
     ]
    }
   ],
   "source": [
    "# The strings in the \"Value\" column have leading $ sign and thousands separators, e.g., $2,800.\n",
    "# Add new column \"Float_Value\". \n",
    "# From old column, remove $ sign, remove commas, convert to float.\n",
    "\n",
    "# x: Each value in column \"Value\".\n",
    "# x[1: ]: Leave index[0], which is the $ sign, and start with index[1] until and including last index.\n",
    "# replace(\",\",\"\"): Replace comma with nothing (not even space).\n",
    "# float(x[1...): Convert this trimmed string into float.\n",
    "jeopardy[\"Float_Value\"] = jeopardy[\"Value\"].apply(lambda x: float(x[1: ].replace(\",\",\"\")) if x != \"None\" else 0)\n",
    "print(jeopardy.Float_Value.head())\n",
    "\n",
    "# Call find_rows_true with jeopardy[\"Float_Value\"] and [\"King\", \"England\"]. This will return the same 49 records from Step 2. \n",
    "# Since I want to work with the newly added \"Float_Value\" column, I cannot use my old function find_rows_true, \n",
    "# which is designed to take a single column as input and return that column (after filtering) as output.\n",
    "# The function needs to be modified to receive entire dataframe (jeopardy) as x2, perform filtering operations on jeopardy.Question.\n",
    "\n",
    "def find_rows_true_value(x2, words):\n",
    "    rows_true = lambda x2: all(word in x2 for word in words)\n",
    "    # df.loc[<list of rows or a condition for rows>]  # loc iterates through each row of dataframe\n",
    "    # x.loc[<rows for which rows_true is True>    \n",
    "    return x2.loc[x2.Question.apply(rows_true)]\n",
    "\n",
    "questions_value = find_rows_true_value(jeopardy, ['King', 'England']) # new dataframe that holds the questions and float values\n",
    "# print(questions_value)\n",
    "print(\"questions_value.info(): \")\n",
    "print(questions_value.info()) # 49 questions found\n",
    "questions_value.to_csv('found_questions_value.csv')\n",
    "print(\"questions_value.Float_Value.mean(): \" + str(questions_value.Float_Value.mean()))"
   ]
  },
  {
   "cell_type": "markdown",
   "metadata": {},
   "source": [
    "5. Write a function that returns the count of unique answers to all of the questions in a dataset. For example, after filtering the entire dataset to only questions containing the word `\"King\"`, we could then find all of the unique answers to those questions. The answer \"Henry VIII\" appeared 55 times and was the most common answer."
   ]
  },
  {
   "cell_type": "code",
   "execution_count": 26,
   "metadata": {},
   "outputs": [
    {
     "name": "stdout",
     "output_type": "stream",
     "text": [
      "questions_value.info(): \n",
      "<class 'pandas.core.frame.DataFrame'>\n",
      "Int64Index: 1604 entries, 56 to 216787\n",
      "Data columns (total 8 columns):\n",
      " #   Column       Non-Null Count  Dtype  \n",
      "---  ------       --------------  -----  \n",
      " 0   Show_Number  1604 non-null   int64  \n",
      " 1   Air_Date     1604 non-null   object \n",
      " 2   Round        1604 non-null   object \n",
      " 3   Category     1604 non-null   object \n",
      " 4   Value        1604 non-null   object \n",
      " 5   Question     1604 non-null   object \n",
      " 6   Answer       1604 non-null   object \n",
      " 7   Float_Value  1604 non-null   float64\n",
      "dtypes: float64(1), int64(1), object(6)\n",
      "memory usage: 112.8+ KB\n",
      "None\n",
      "questions_value.Float_Value.mean(): 773.4413965087282\n",
      "Sweden                               19\n",
      "Scotland                             11\n",
      "Norway                               11\n",
      "Denmark                              10\n",
      "Morocco                              10\n",
      "                                     ..\n",
      "blood poisoning                       1\n",
      "the Hundred Years' War                1\n",
      "Warsaw                                1\n",
      "the May King                          1\n",
      "a pyramid (the pyramids accepted)     1\n",
      "Name: Answer, Length: 1115, dtype: int64\n"
     ]
    }
   ],
   "source": [
    "# In order to compare my results with Codecademy, run find_rows_true_value again, this time only with keyword [\"King\"].\n",
    "\n",
    "def find_rows_true_value(x2, words):\n",
    "    rows_true = lambda x2: all(word in x2 for word in words)\n",
    "    # df.loc[<list of rows or a condition for rows>]  # loc iterates through each row of dataframe\n",
    "    # x.loc[<rows for which rows_true is True>    \n",
    "    return x2.loc[x2.Question.apply(rows_true)]\n",
    "\n",
    "questions_value = find_rows_true_value(jeopardy, ['King']) # new dataframe that holds the questions and float values\n",
    "# print(questions_value)\n",
    "print(\"questions_value.info(): \")\n",
    "print(questions_value.info()) # found 1604 rows\n",
    "questions_value.to_csv('found_questions_value.csv')\n",
    "print(\"questions_value.Float_Value.mean(): \" + str(questions_value.Float_Value.mean()))\n",
    "\n",
    "# DISCREPANCY: Codecademy's mean is 771.8833..., my mean is 773.4413...\n",
    "\n",
    "# DISCREPANCY: Codecademy's results results cannot be reproduced with the provided csv file and the instructions in this project.\n",
    "# Their results may be based on functions that use lower(), as found in older versions of this project.\n",
    "# My results below are confirmed in the found_questions_value.csv file.\n",
    "\n",
    "# 1604 questions contain the word \"King\" in the Question column.\n",
    "# To count unique values in the \"Answer\" column we need to use a the regular expression value_counts() in a new function.\n",
    "#         Internet: The value_counts() function is used to get a Series containing counts of unique values. \n",
    "#                   The resulting object will be in descending order \n",
    "#\n",
    "def count_unique_answers(input_df):\n",
    "    return input_df[\"Answer\"].value_counts()\n",
    "\n",
    "print(count_unique_answers(questions_value))\n",
    "\n"
   ]
  },
  {
   "cell_type": "markdown",
   "metadata": {},
   "source": [
    "6. Explore from here! This is an incredibly rich dataset, and there are so many interesting things to discover. There are a few columns that we haven't even started looking at yet. Here are some ideas on ways to continue working with this data:\n",
    "\n",
    " * Investigate the ways in which questions change over time by filtering by the date. How many questions from the 90s use the word `\"Computer\"` compared to questions from the 2000s?\n",
    " * Is there a connection between the round and the category? Are you more likely to find certain categories, like `\"Literature\"` in Single Jeopardy or Double Jeopardy?\n",
    " * Build a system to quiz yourself. Grab random questions, and use the <a href=\"https://docs.python.org/3/library/functions.html#input\">input</a> function to get a response from the user. Check to see if that response was right or wrong."
   ]
  },
  {
   "cell_type": "code",
   "execution_count": null,
   "metadata": {},
   "outputs": [],
   "source": [
    "# Completed"
   ]
  },
  {
   "cell_type": "markdown",
   "metadata": {},
   "source": [
    "## Solution"
   ]
  },
  {
   "cell_type": "markdown",
   "metadata": {},
   "source": [
    "7. Compare your program to our <a href=\"https://content.codecademy.com/PRO/independent-practice-projects/jeopardy/jeopardy_solution.zip\">sample solution code</a> - remember, that your program might look different from ours (and probably will) and that's okay!"
   ]
  },
  {
   "cell_type": "markdown",
   "metadata": {},
   "source": [
    "8. Great work! Visit <a href=\"https://discuss.codecademy.com/t/this-is-jeopardy-challenge-project-python-pandas/462365\">our forums</a> to compare your project to our sample solution code. You can also learn how to host your own solution on GitHub so you can share it with other learners! Your solution might look different from ours, and that's okay! There are multiple ways to solve these projects, and you'll learn more by seeing others' code."
   ]
  },
  {
   "cell_type": "code",
   "execution_count": null,
   "metadata": {},
   "outputs": [],
   "source": [
    "# Completed"
   ]
  }
 ],
 "metadata": {
  "kernelspec": {
   "display_name": "Python 3.9.12 ('base')",
   "language": "python",
   "name": "python3"
  },
  "language_info": {
   "codemirror_mode": {
    "name": "ipython",
    "version": 3
   },
   "file_extension": ".py",
   "mimetype": "text/x-python",
   "name": "python",
   "nbconvert_exporter": "python",
   "pygments_lexer": "ipython3",
   "version": "3.9.12"
  },
  "vscode": {
   "interpreter": {
    "hash": "c7f5e592c43e0bb3865fa17512643febd83867b1832dfdc95e4b02df1a0eafd5"
   }
  }
 },
 "nbformat": 4,
 "nbformat_minor": 2
}
